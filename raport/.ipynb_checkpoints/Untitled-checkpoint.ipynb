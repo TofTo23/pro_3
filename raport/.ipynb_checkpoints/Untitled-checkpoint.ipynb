{
 "cells": [
  {
   "cell_type": "markdown",
   "id": "f664f436-60ef-490a-b919-ed2612d722cc",
   "metadata": {},
   "source": [
    "# TECHNIKI PROGRAMOWANIA - projekt 3\n",
    "\n",
    "## Krzysztof Toczyński 197986\n",
    "\n",
    "## Lucjan Butko 198090  \n",
    "     \n",
    "    Wykorzystane biblioteki:\n",
    "    - matplotplusplus (c++)\n",
    "    - audiofile(c++)\n",
    "    - scikit_build_example(c++)\n",
    "    - cmath(c++) [STL]\n",
    "    -complex(c++) [STL]\n",
    "\n"
   ]
  },
  {
   "cell_type": "markdown",
   "id": "94fcb3a3-99fd-4b94-a53a-e6013f478a59",
   "metadata": {
    "jp-MarkdownHeadingCollapsed": true
   },
   "source": [
    "## 1.Wizualizacja sygnału z wykorzystaniem biblioteki matplotplusplus\n",
    "\n"
   ]
  },
  {
   "cell_type": "markdown",
   "id": "d6cfc46f-d327-4548-b54c-45ce6a691611",
   "metadata": {},
   "source": []
  },
  {
   "cell_type": "markdown",
   "id": "5560f959-a5b1-42c4-86b2-d2e183ead071",
   "metadata": {
    "jp-MarkdownHeadingCollapsed": true
   },
   "source": [
    "## 2.DFT i transformata odwrotna\n"
   ]
  },
  {
   "cell_type": "markdown",
   "id": "e648eff2-2a93-420d-b360-b5076fe97f71",
   "metadata": {
    "jp-MarkdownHeadingCollapsed": true
   },
   "source": [
    "## 4.Generowanie sygnałów o zadanej częstotliwości (sin, cos, prostokątny, piłokształtny)"
   ]
  },
  {
   "cell_type": "markdown",
   "id": "267737e3-3669-4ab8-a7cf-1fbe7452cc50",
   "metadata": {
    "jp-MarkdownHeadingCollapsed": true
   },
   "source": [
    "### a) sinus w c++"
   ]
  },
  {
   "cell_type": "markdown",
   "id": "577f5fce-0bb1-465b-bf73-35bd3685cce5",
   "metadata": {},
   "source": [
    "```c++\n",
    "void sinus(double T, double F, double A) {\n",
    "\n",
    "    vector<double> t = linspace(0, T, (T * fs));\n",
    "\n",
    "    vector<double> y(t.size());\n",
    "    for (size_t i = 0; i < t.size(); ++i) {\n",
    "        y[i] = A * sin(2 * pi * F * t[i]);\n",
    "    }\n",
    "\n",
    "    plot(t, y);\n",
    "    title(\"Sinus\");\n",
    "    xlabel(\"t(s)\");\n",
    "    ylabel(\"y\");\n",
    "    show();\n",
    "}\n",
    "```"
   ]
  },
  {
   "cell_type": "code",
   "execution_count": 4,
   "id": "bae8d863-6bc2-432c-8fb2-5eacf1f01143",
   "metadata": {},
   "outputs": [],
   "source": [
    "#wywołanie funkcji sinus w pythonie, gdzue argumenty funkcji to odpowiednio: okres, częstotliwość, amplituda\n",
    "import scikit_build_example\n",
    "scikit_build_example.sinus(1, 1, 1)"
   ]
  },
  {
   "cell_type": "markdown",
   "id": "0c6664b8-c062-4bed-a3cf-35ee6d7bd5c8",
   "metadata": {},
   "source": [
    "<img src=\"4_sinus.png\" />"
   ]
  },
  {
   "cell_type": "markdown",
   "id": "d801ac02-a2c6-469d-8149-ce5e78979059",
   "metadata": {},
   "source": [
    "### b) cosinus w c++"
   ]
  },
  {
   "cell_type": "markdown",
   "id": "0ac53fd6-a30f-43a6-837f-119e2a333b39",
   "metadata": {},
   "source": [
    "```c++\n",
    "void cosinus(double T, double F, double A) {\n",
    "\n",
    "    vector<double> t = linspace(0, T, (T * fs));\n",
    "\n",
    "    vector<double> y(t.size());\n",
    "    for (size_t i = 0; i < t.size(); ++i) {\n",
    "        y[i] = A * cos(2 * pi * F * t[i]);\n",
    "    }\n",
    "\n",
    "    plot(t, y);\n",
    "    title(\"Cosinus\");\n",
    "    xlabel(\"t(s)\");\n",
    "    ylabel(\"y\");\n",
    "    show();\n",
    "}\n",
    "```"
   ]
  },
  {
   "cell_type": "code",
   "execution_count": 5,
   "id": "990bb98e-79c0-4346-ad42-e6a158e0df76",
   "metadata": {},
   "outputs": [],
   "source": [
    "#wywołanie funkcji cosinus w pythonie, gdzue argumenty funkcji to odpowiednio: okres, częstotliwość, amplituda\n",
    "import scikit_build_example\n",
    "scikit_build_example.cosinus(2, 0.3, 4)"
   ]
  },
  {
   "cell_type": "markdown",
   "id": "fd3e7ceb-5165-4c21-87cf-acb42e0a19ea",
   "metadata": {},
   "source": [
    "<img src=\"4_cosinus.png\" />"
   ]
  },
  {
   "cell_type": "markdown",
   "id": "a0b2c585-9373-430b-903c-4f029d0e8f5c",
   "metadata": {},
   "source": [
    "### c) prostokątny w c++"
   ]
  },
  {
   "cell_type": "markdown",
   "id": "dcf54df4-918c-4721-bdeb-fd127f0c2c88",
   "metadata": {},
   "source": [
    "```c++\n",
    "void squarewave(double T, double F, double A) {\n",
    "\n",
    "    vector<double> t = linspace(0, T, (T * fs));\n",
    "\n",
    "    vector<double> y(t.size());\n",
    "    for (size_t i = 0; i < t.size(); ++i) {\n",
    "        y[i] = A * sin(2 * pi * F * t[i]) > 0 ? A : -A;\n",
    "    }\n",
    "\n",
    "    plot(t, y);\n",
    "    title(\"Square wave\");\n",
    "    xlabel(\"t(s)\");\n",
    "    ylabel(\"y\");\n",
    "    show();\n",
    "}\n",
    "```"
   ]
  },
  {
   "cell_type": "markdown",
   "id": "be649a3a-d3ab-4e5f-80c5-2dc0fd34c304",
   "metadata": {},
   "source": [
    "<img src=\"4_sawtooth.png\" />"
   ]
  },
  {
   "cell_type": "code",
   "execution_count": 6,
   "id": "da6cf14b-332f-4b20-a6f7-27cdd767d8c1",
   "metadata": {},
   "outputs": [],
   "source": [
    "#wywołanie funkcji squarewave w pythonie, gdzue argumenty funkcji to odpowiednio: okres, częstotliwość, amplituda\n",
    "import scikit_build_example\n",
    "scikit_build_example.squarewave(0.5, 45, 2)"
   ]
  },
  {
   "cell_type": "markdown",
   "id": "d16ef893-d46e-408b-80fe-f58ab010cb3b",
   "metadata": {},
   "source": [
    "<img src=\"4_squarewave.png\" />"
   ]
  },
  {
   "cell_type": "markdown",
   "id": "26fb1beb-9822-4629-a799-1060f4bb7d4e",
   "metadata": {
    "jp-MarkdownHeadingCollapsed": true
   },
   "source": [
    "### d) piłokształtny w c++"
   ]
  },
  {
   "cell_type": "markdown",
   "id": "9c9eda64-b865-4ebc-a755-cc7c093d6815",
   "metadata": {
    "jp-MarkdownHeadingCollapsed": true
   },
   "source": [
    "```c++\n",
    "void sawtooth(double T, double F, double A) {\n",
    "\n",
    "    vector<double> t = linspace(0, T, (T * fs));\n",
    "\n",
    "    vector<double> y(t.size());\n",
    "    for (size_t i = 0; i < t.size(); ++i) {\n",
    "        y[i] = fmod(F * t[i] + 0.5, 1) * (2 * A) - A;\n",
    "    }\n",
    "\n",
    "    plot(t, y);\n",
    "    title(\"Sawtooth wave\");\n",
    "    xlabel(\"t(s)\");\n",
    "    ylabel(\"y\");\n",
    "    show();\n",
    "}\n",
    "```"
   ]
  },
  {
   "cell_type": "code",
   "execution_count": 7,
   "id": "37dc33fc-2d3e-4520-aeb8-e3c16b15ad68",
   "metadata": {},
   "outputs": [],
   "source": [
    "#wywołanie funkcji sawtooth w pythonie, gdzue argumenty funkcji to odpowiednio: okres, częstotliwość, amplituda\n",
    "import scikit_build_example\n",
    "scikit_build_example.sawtooth(1, 2, 0.3)"
   ]
  },
  {
   "cell_type": "markdown",
   "id": "a380d767-fcb6-49f6-b77c-cee777b0870e",
   "metadata": {
    "jp-MarkdownHeadingCollapsed": true
   },
   "source": [
    "## 6.Usuwanie niskich częstotliwości z sygnału (korzystajac z DFT)"
   ]
  }
 ],
 "metadata": {
  "kernelspec": {
   "display_name": "Python 3 (ipykernel)",
   "language": "python",
   "name": "python3"
  },
  "language_info": {
   "codemirror_mode": {
    "name": "ipython",
    "version": 3
   },
   "file_extension": ".py",
   "mimetype": "text/x-python",
   "name": "python",
   "nbconvert_exporter": "python",
   "pygments_lexer": "ipython3",
   "version": "3.12.3"
  }
 },
 "nbformat": 4,
 "nbformat_minor": 5
}
