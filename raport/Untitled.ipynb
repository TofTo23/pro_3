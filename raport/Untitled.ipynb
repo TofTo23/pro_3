{
 "cells": [
  {
   "cell_type": "markdown",
   "id": "f664f436-60ef-490a-b919-ed2612d722cc",
   "metadata": {},
   "source": [
    "# TECHNIKI PROGRAMOWANIA - projekt 3\n",
    "\n",
    "## Krzysztof Toczyński 197986\n",
    "\n",
    "## Lucjan Butko 198090  \n",
    "     \n",
    "    Wykorzystane biblioteki:\n",
    "    - matplotplusplus (c++)\n",
    "    - audiofile(c++)\n",
    "    - scikit_build_example(c++) [\"pybind11/pybind11.h\"]\n",
    "    - vector(c++) [STL]\n",
    "    - cmath(c++) [STL]\n",
    "    -complex(c++) [STL]\n",
    "\n",
    "Cały plik main.cpp dostępny w repozytorium https://github.com/TofTo23/pro_3.git\n",
    "src/main.cpp. Przed użyciem należy zmienić ścieżkę set(pybind11_DIR 'lokalizacja/biblioteki/pybind11') w CMakeLists.txt."
   ]
  },
  {
   "cell_type": "markdown",
   "id": "94fcb3a3-99fd-4b94-a53a-e6013f478a59",
   "metadata": {},
   "source": [
    "## 1.Wizualizacja sygnału z wykorzystaniem biblioteki matplotplusplus\n",
    "\n"
   ]
  },
  {
   "cell_type": "markdown",
   "id": "d6cfc46f-d327-4548-b54c-45ce6a691611",
   "metadata": {},
   "source": [
    "Kod w c++\n",
    "```c++\n",
    "AudioFile<double> audioFile;\n",
    "string filePath = \"taco1.wav\";  // Taco Hemingway\n",
    "\n",
    "if (!audioFile.load(filePath)) {\n",
    "    cerr << \"Nie można wczytać pliku audio: \" << filePath << endl;\n",
    "}\n",
    "\n",
    "double T = audioFile.getLengthInSeconds();\n",
    "\n",
    "vector<double> t;\n",
    "t = linspace(0, T, (T * fs));\n",
    "\n",
    "vector<double> y;\n",
    "y.reserve(fs);\n",
    "\n",
    "for (int i = 0; i < fs; ++i) {\n",
    "    y.push_back(audioFile.samples[0][i]); // [0] - tylko jeden kanał \n",
    "}\n",
    "\n",
    "// --- wykres dla fs sampli\n",
    "auto w1 = figure();\n",
    "w1->size(800, 600);\n",
    "plot(t, y);\n",
    "title(\"Audio\");\n",
    "xlabel(\"Próbki\");\n",
    "ylabel(\"Amplituda\");\n",
    "show();\n",
    "```"
   ]
  },
  {
   "cell_type": "code",
   "execution_count": null,
   "id": "f9ea3f08-ac76-4893-9dab-a2c7f7b4b937",
   "metadata": {},
   "outputs": [],
   "source": [
    "import scikit_build_example\n",
    "scikit_build_example.display_audio()"
   ]
  },
  {
   "cell_type": "markdown",
   "id": "c20f7a8e-17ac-4b4a-837b-a46411632647",
   "metadata": {},
   "source": [
    "<img src=\"1_audio.png\" />"
   ]
  },
  {
   "cell_type": "markdown",
   "id": "5560f959-a5b1-42c4-86b2-d2e183ead071",
   "metadata": {},
   "source": [
    "## 2.DFT i transformata odwrotna"
   ]
  },
  {
   "cell_type": "markdown",
   "id": "f30090ba-7abc-402d-85c9-ddedaa1bf1f3",
   "metadata": {},
   "source": [
    "### a) dla sinusa, cosinusa, sygnału prostokątnege oraz sygnału piłokształtnego"
   ]
  },
  {
   "cell_type": "markdown",
   "id": "92dd64bd-6447-4cdf-975a-7647ab2128ed",
   "metadata": {},
   "source": [
    "Kod w c++\n",
    "```c++\n",
    "     vector<complex<double>> dft(y.size());\n",
    " for (size_t i = 0; i < y.size(); ++i) {\n",
    "     complex<double> sum(0.0, 0.0);\n",
    "     for (size_t j = 0; j < y.size(); ++j) {\n",
    "         double kat = 2 * pi * i * j / y.size();\n",
    "         sum += y[j] * polar(1.0, -kat); //zespolak \n",
    "     }\n",
    "     dft[i] = sum;\n",
    " }\n",
    "\n",
    " vector<double> Adft(y.size());\n",
    " for (int i = 0; i < y.size(); ++i) {\n",
    "     Adft[i] = abs(dft[i]);\n",
    " }\n",
    "\n",
    " vector<double> frq(y.size());\n",
    " for (int i = 0; i < y.size(); ++i) {\n",
    "     frq[i] = i * (fs / y.size());\n",
    " }\n",
    "\n",
    " double n = y.size();\n",
    " vector<double> Idft(y.size());\n",
    " for (size_t i = 0; i < y.size(); ++i) {\n",
    "     complex<double> sum(0.0, 0.0);\n",
    "     for (size_t j = 0; j < y.size(); ++j) {\n",
    "         double kat = 2 * pi * i * j / y.size();\n",
    "         sum += dft[j] * polar(1.0, kat);\n",
    "     }\n",
    "     Idft[i] = sum.real() / n;\n",
    " }\n",
    "\n",
    " auto w2 = figure();\n",
    " w2->size(800, 600);\n",
    " plot(frq, Adft);\n",
    " title(\"DFT\");\n",
    " xlabel(\"Częstotliwość\");\n",
    " ylabel(\"Amplituda\");\n",
    "\n",
    " auto w3 = figure();\n",
    " w3->size(800, 600);\n",
    " plot(t, Idft);\n",
    " title(\"IDFT\");\n",
    " xlabel(\"Czas\");\n",
    " ylabel(\"Amplituda\");\n",
    " show();\n",
    "```"
   ]
  },
  {
   "cell_type": "code",
   "execution_count": 1,
   "id": "728f9546-fc9b-4128-b6ba-51d9d417367b",
   "metadata": {},
   "outputs": [],
   "source": [
    "#do generowania DFT oraz IDFT poszczególnych przbiegów należy za pierwszy argument przyjąć: \n",
    "# \"s - Sinus\"\n",
    "# \"c - Cosinus\"\n",
    "# \"q - Square wave\"\n",
    "# \"t - Sawtooth signal\"\n",
    "# drugi argument jest częstotliwością danego sygnału (przy audio czestotliwosc nie ma znaczenia)\n",
    "import scikit_build_example\n",
    "scikit_build_example.DFT_IDFT('s', 5)"
   ]
  },
  {
   "cell_type": "markdown",
   "id": "f1facc85-0e73-4224-9fc7-c13f6baf40a8",
   "metadata": {},
   "source": [
    "<img src=\"2_dft.png\" />"
   ]
  },
  {
   "cell_type": "markdown",
   "id": "637694f8-8eb9-45c8-b61d-b567fa79e666",
   "metadata": {},
   "source": [
    "<img src=\"2_idft.png\" />"
   ]
  },
  {
   "cell_type": "code",
   "execution_count": 1,
   "id": "5ccf6bf7-2af3-4f67-a0d5-da25bca01da4",
   "metadata": {},
   "outputs": [],
   "source": [
    "#do generowania DFT oraz IDFT poszczególnych przbiegów należy za pierwszy argument przyjąć: \n",
    "# \"s - Sinus\"\n",
    "# \"c - Cosinus\"\n",
    "# \"q - Square wave\"\n",
    "# \"t - Sawtooth signal\"\n",
    "# drugi argument jest częstotliwością danego sygnału (przy audio czestotliwosc nie ma znaczenia)\n",
    "import scikit_build_example\n",
    "scikit_build_example.DFT_IDFT('t', 15)"
   ]
  },
  {
   "cell_type": "markdown",
   "id": "16cb36f6-1409-4ad5-b3f5-bc244c47ac7d",
   "metadata": {},
   "source": [
    "<img src=\"2_dft_t.png\" />"
   ]
  },
  {
   "cell_type": "markdown",
   "id": "7463d432-368a-44ba-b3ac-4668da6ef96b",
   "metadata": {},
   "source": [
    "<img src=\"2_idft_t.png\" />"
   ]
  },
  {
   "cell_type": "markdown",
   "id": "00cea845-bc36-42d7-af7f-a19062d47db7",
   "metadata": {},
   "source": [
    "### b) dla pliku dźwiękowego"
   ]
  },
  {
   "cell_type": "markdown",
   "id": "760f9074-1dfa-472c-ad49-1191adb436d8",
   "metadata": {},
   "source": [
    "kod w c++\n",
    "```c++\n",
    "void Audio_DFT_IDFT() {\n",
    "    AudioFile<double> audioFile;\n",
    "    string filePath = \"taco1.wav\";  // Taco Hemingway\n",
    "    if (!audioFile.load(filePath)) {\n",
    "        cerr << \"Nie można wczytać pliku audio: \" << filePath << endl;\n",
    "    }\n",
    "    double T = audioFile.getLengthInSeconds(); // czas trwania audio\n",
    "\n",
    "    vector<double> t;\n",
    "    t = linspace(0, T, (T * fs));\n",
    "\n",
    "    vector<double> y;\n",
    "    y.reserve(fs);\n",
    "    for (int i = 0; i < fs; ++i) {\n",
    "        y.push_back(audioFile.samples[0][i]); // [0] - tylko jeden kanał \n",
    "    }\n",
    "\n",
    "    double n = y.size();\n",
    "    vector<complex<double>> dft(n);\n",
    "    for (size_t i = 0; i < n; ++i) {\n",
    "        complex<double> sum(0.0, 0.0);\n",
    "        for (size_t j = 0; j < n; ++j) {\n",
    "            double kat = 2 * pi * i * j / n;\n",
    "            sum += y[j] * polar(1.0, -kat); //zespolak \n",
    "        }\n",
    "        dft[i] = sum;\n",
    "    }\n",
    "\n",
    "    vector<double> Adft(n);\n",
    "    for (int i = 0; i < n; ++i) {\n",
    "        Adft[i] = abs(dft[i]);\n",
    "    }\n",
    "\n",
    "    vector<double> frq(n);\n",
    "    for (int i = 0; i < n; ++i) {\n",
    "        frq[i] = i * (fs / n);\n",
    "    }\n",
    "\n",
    "    vector<double> Idft(n);\n",
    "    for (size_t i = 0; i < n; ++i) {\n",
    "        complex<double> sum(0.0, 0.0);\n",
    "        for (size_t j = 0; j < n; ++j) {\n",
    "            double kat = 2 * pi * i * j / n;\n",
    "            sum += dft[j] * polar(1.0, kat);\n",
    "        }\n",
    "        Idft[i] = sum.real() / fs;\n",
    "    }\n",
    "\n",
    "    auto w2 = figure();\n",
    "    w2->size(800, 600);\n",
    "    plot(frq, Adft);\n",
    "    title(\"DFT\");\n",
    "    xlabel(\"Częstotliwość\");\n",
    "    ylabel(\"Amplituda\");\n",
    "\n",
    "    auto w3 = figure();\n",
    "    w3->size(800, 600);\n",
    "    plot(t, Idft);\n",
    "    title(\"IDFT\");\n",
    "    xlabel(\"Czas\");\n",
    "    ylabel(\"Amplituda\");\n",
    "    show();\n",
    "}\n",
    "```"
   ]
  },
  {
   "cell_type": "code",
   "execution_count": null,
   "id": "b6294e0a-30a7-46be-82b5-393ce79a242e",
   "metadata": {},
   "outputs": [],
   "source": [
    "import scikit_build_example as sc\n",
    "sc.Audio_DFT_IDFT()"
   ]
  },
  {
   "cell_type": "markdown",
   "id": "f2117e4a-9cb6-4982-8f96-16f08a84491f",
   "metadata": {},
   "source": [
    "<img src=\"2_dft_audio.png\" />"
   ]
  },
  {
   "cell_type": "markdown",
   "id": "975f8cc7-5a00-4d67-a2ef-cfbe8b9a068b",
   "metadata": {},
   "source": [
    "<img src=\"2_idft_audio.png\" />"
   ]
  },
  {
   "cell_type": "markdown",
   "id": "e648eff2-2a93-420d-b360-b5076fe97f71",
   "metadata": {},
   "source": [
    "## 4.Generowanie sygnałów o zadanej częstotliwości (sin, cos, prostokątny, piłokształtny)"
   ]
  },
  {
   "cell_type": "markdown",
   "id": "267737e3-3669-4ab8-a7cf-1fbe7452cc50",
   "metadata": {},
   "source": [
    "### a) sinus w c++"
   ]
  },
  {
   "cell_type": "markdown",
   "id": "577f5fce-0bb1-465b-bf73-35bd3685cce5",
   "metadata": {},
   "source": [
    "```c++\n",
    "void display_sinus(double T, double F, double A) {\n",
    "\n",
    "    vector<double> t = linspace(0, T, (T * fs));\n",
    "\n",
    "    vector<double> y(t.size());\n",
    "    for (size_t i = 0; i < t.size(); ++i) {\n",
    "        y[i] = A * sin(2 * pi * F * t[i]);\n",
    "    }\n",
    "\n",
    "    plot(t, y);\n",
    "    title(\"Sinus\");\n",
    "    xlabel(\"t(s)\");\n",
    "    ylabel(\"y\");\n",
    "    show();\n",
    "}\n",
    "```"
   ]
  },
  {
   "cell_type": "code",
   "execution_count": 4,
   "id": "bae8d863-6bc2-432c-8fb2-5eacf1f01143",
   "metadata": {},
   "outputs": [],
   "source": [
    "#wywołanie funkcji sinus w pythonie, gdzue argumenty funkcji to odpowiednio: okres, częstotliwość, amplituda\n",
    "import scikit_build_example\n",
    "scikit_build_example.display_sinus(1, 1, 1)"
   ]
  },
  {
   "cell_type": "markdown",
   "id": "0c6664b8-c062-4bed-a3cf-35ee6d7bd5c8",
   "metadata": {},
   "source": [
    "<img src=\"4_sinus.png\" />"
   ]
  },
  {
   "cell_type": "markdown",
   "id": "d801ac02-a2c6-469d-8149-ce5e78979059",
   "metadata": {},
   "source": [
    "### b) cosinus w c++"
   ]
  },
  {
   "cell_type": "markdown",
   "id": "0ac53fd6-a30f-43a6-837f-119e2a333b39",
   "metadata": {},
   "source": [
    "```c++\n",
    "void display_cosinus(double T, double F, double A) {\n",
    "\n",
    "    vector<double> t = linspace(0, T, (T * fs));\n",
    "\n",
    "    vector<double> y(t.size());\n",
    "    for (size_t i = 0; i < t.size(); ++i) {\n",
    "        y[i] = A * cos(2 * pi * F * t[i]);\n",
    "    }\n",
    "\n",
    "    plot(t, y);\n",
    "    title(\"Cosinus\");\n",
    "    xlabel(\"t(s)\");\n",
    "    ylabel(\"y\");\n",
    "    show();\n",
    "}\n",
    "```"
   ]
  },
  {
   "cell_type": "code",
   "execution_count": 2,
   "id": "990bb98e-79c0-4346-ad42-e6a158e0df76",
   "metadata": {},
   "outputs": [],
   "source": [
    "#wywołanie funkcji cosinus w pythonie, gdzue argumenty funkcji to odpowiednio: okres, częstotliwość, amplituda\n",
    "import scikit_build_example\n",
    "scikit_build_example.display_cosinus(2, 0.3, 4)"
   ]
  },
  {
   "cell_type": "markdown",
   "id": "fd3e7ceb-5165-4c21-87cf-acb42e0a19ea",
   "metadata": {},
   "source": [
    "<img src=\"4_cosinus.png\" />"
   ]
  },
  {
   "cell_type": "markdown",
   "id": "a0b2c585-9373-430b-903c-4f029d0e8f5c",
   "metadata": {},
   "source": [
    "### c) prostokątny w c++"
   ]
  },
  {
   "cell_type": "markdown",
   "id": "dcf54df4-918c-4721-bdeb-fd127f0c2c88",
   "metadata": {},
   "source": [
    "```c++\n",
    "void display_squarewave(double T, double F, double A) {\n",
    "\n",
    "    vector<double> t = linspace(0, T, (T * fs));\n",
    "\n",
    "    vector<double> y(t.size());\n",
    "    for (size_t i = 0; i < t.size(); ++i) {\n",
    "        y[i] = A * sin(2 * pi * F * t[i]) > 0 ? A : -A;\n",
    "    }\n",
    "\n",
    "    plot(t, y);\n",
    "    title(\"Square wave\");\n",
    "    xlabel(\"t(s)\");\n",
    "    ylabel(\"y\");\n",
    "    show();\n",
    "}\n",
    "```"
   ]
  },
  {
   "cell_type": "code",
   "execution_count": 6,
   "id": "da6cf14b-332f-4b20-a6f7-27cdd767d8c1",
   "metadata": {},
   "outputs": [],
   "source": [
    "#wywołanie funkcji squarewave w pythonie, gdzue argumenty funkcji to odpowiednio: okres, częstotliwość, amplituda\n",
    "import scikit_build_example\n",
    "scikit_build_example.display_squarewave(0.5, 45, 2)"
   ]
  },
  {
   "cell_type": "markdown",
   "id": "d16ef893-d46e-408b-80fe-f58ab010cb3b",
   "metadata": {},
   "source": [
    "<img src=\"4_squarewave.png\" />"
   ]
  },
  {
   "cell_type": "markdown",
   "id": "26fb1beb-9822-4629-a799-1060f4bb7d4e",
   "metadata": {},
   "source": [
    "### d) piłokształtny w c++"
   ]
  },
  {
   "cell_type": "markdown",
   "id": "9c9eda64-b865-4ebc-a755-cc7c093d6815",
   "metadata": {
    "jp-MarkdownHeadingCollapsed": true
   },
   "source": [
    "```c++\n",
    "void display_sawtooth(double T, double F, double A) {\n",
    "\n",
    "    vector<double> t = linspace(0, T, (T * fs));\n",
    "\n",
    "    vector<double> y(t.size());\n",
    "    for (size_t i = 0; i < t.size(); ++i) {\n",
    "        y[i] = fmod(F * t[i] + 0.5, 1) * (2 * A) - A;\n",
    "    }\n",
    "\n",
    "    plot(t, y);\n",
    "    title(\"Sawtooth wave\");\n",
    "    xlabel(\"t(s)\");\n",
    "    ylabel(\"y\");\n",
    "    show();\n",
    "}\n",
    "\n",
    "```"
   ]
  },
  {
   "cell_type": "code",
   "execution_count": 7,
   "id": "37dc33fc-2d3e-4520-aeb8-e3c16b15ad68",
   "metadata": {},
   "outputs": [],
   "source": [
    "#wywołanie funkcji sawtooth w pythonie, gdzue argumenty funkcji to odpowiednio: okres, częstotliwość, amplituda\n",
    "import scikit_build_example\n",
    "scikit_build_example.display_sawtooth(1, 2, 0.3)"
   ]
  },
  {
   "cell_type": "markdown",
   "id": "be649a3a-d3ab-4e5f-80c5-2dc0fd34c304",
   "metadata": {},
   "source": [
    "<img src=\"4_sawtooth.png\" />"
   ]
  },
  {
   "cell_type": "markdown",
   "id": "a380d767-fcb6-49f6-b77c-cee777b0870e",
   "metadata": {},
   "source": [
    "## 6.Usuwanie niskich częstotliwości z sygnału (korzystajac z DFT)"
   ]
  },
  {
   "cell_type": "markdown",
   "id": "d1c8844d-c2a1-4a17-8496-8ed52ae54744",
   "metadata": {},
   "source": [
    "### a) dla sinusa, cosinusa, sygnału prostokątnege oraz sygnału piłokształtnego"
   ]
  },
  {
   "cell_type": "markdown",
   "id": "7460da2d-3d9d-45d6-9297-72b0b04e01f9",
   "metadata": {},
   "source": [
    "Kod w c++\n",
    "```c++\n",
    " vector<complex<double>> dft(y.size());\n",
    " for (size_t i = 0; i < y.size(); ++i) {\n",
    "     complex<double> sum(0.0, 0.0);\n",
    "     for (size_t j = 0; j < y.size(); ++j) {\n",
    "         double kat = 2 * pi * i * j / y.size();\n",
    "         sum += y[j] * polar(1.0, -kat);\n",
    "     }\n",
    "     dft[i] = sum;\n",
    " }\n",
    "\n",
    " size_t syllabus = static_cast<size_t>(uf * dft.size() / fs);\n",
    "\n",
    " for (int i = 0; i < syllabus; ++i) {\n",
    "     dft[i] = 0.0;\n",
    " }\n",
    "\n",
    " vector<double> cutted(dft.size());\n",
    " double n = y.size();\n",
    " for (size_t i = 0; i < y.size(); ++i) {\n",
    "     complex<double> sum(0.0, 0.0);\n",
    "     for (size_t j = 0; j < y.size(); ++j) {\n",
    "         double kat = 2 * pi * i * j / y.size();\n",
    "         sum += dft[j] * polar(1.0, kat);\n",
    "     }\n",
    "     cutted[i] = sum.real() / n;\n",
    " }\n",
    "\n",
    " auto w4 = figure();\n",
    " w4->size(800, 600);\n",
    " plot(t, y);\n",
    " title(\"Oryginalny sygnał\");\n",
    " xlabel(\"Czas\");\n",
    " ylabel(\"Amplituda\");\n",
    "\n",
    " auto w5 = figure();\n",
    " w5->size(800, 600);\n",
    " plot(t, cutted);\n",
    " title(\"Sygnał po usunięciu niskich częstotliwości\");\n",
    " xlabel(\"Czas\");\n",
    " ylabel(\"Amplituda\");\n",
    "\n",
    " show();\n",
    "```"
   ]
  },
  {
   "cell_type": "code",
   "execution_count": 6,
   "id": "ef25662f-4bc8-45a5-b0b6-ba321e453285",
   "metadata": {},
   "outputs": [],
   "source": [
    "#do usuwania niskich częstotliwości za pomocą DFT oraz IDFT poszczególnych przbiegów należy za pierwszy argument przyjąć: \n",
    "# \"s - Sinus\"\n",
    "# \"c - Cosinus\"\n",
    "# \"q - Square wave\"\n",
    "# \"t - Sawtooth signal\"\n",
    "# drugi argument jest częstotliwością danego sygnału (przy audio czestotliwosc nie ma znaczenia)\n",
    "# trzeci argument to częstotliwośc graniczna \n",
    "import scikit_build_example\n",
    "scikit_build_example.usuwanie('s', 3, 150)"
   ]
  },
  {
   "cell_type": "markdown",
   "id": "3182aeea-e3e5-41de-a01f-9fe3b96bacae",
   "metadata": {},
   "source": [
    "### b) dla pliku dźwiękowego"
   ]
  },
  {
   "cell_type": "markdown",
   "id": "10e502f9-8ca0-4852-a21d-e902e8fa0143",
   "metadata": {},
   "source": [
    "kod w c++\n",
    "```c++\n",
    "     AudioFile<double> audioFile;\n",
    " string filePath = \"taco1.wav\";  // Taco Hemingway\n",
    " if (!audioFile.load(filePath)) {\n",
    "     cerr << \"Nie można wczytać pliku audio: \" << filePath << endl;\n",
    " }\n",
    " double T = audioFile.getLengthInSeconds(); // czas trwania audio\n",
    "\n",
    " vector<double> t;\n",
    " t = linspace(0, T, (T * fs));\n",
    "\n",
    " vector<double> y;\n",
    " y.reserve(fs);\n",
    " for (int i = 0; i < fs; ++i) {\n",
    "     y.push_back(audioFile.samples[0][i]); // [0] - tylko jeden kanał \n",
    " }\n",
    "\n",
    " double n = y.size();\n",
    " vector<complex<double>> dft(n);\n",
    " for (size_t i = 0; i < n; ++i) {\n",
    "     complex<double> sum(0.0, 0.0);\n",
    "     for (size_t j = 0; j < n; ++j) {\n",
    "         double kat = 2 * pi * i * j / n;\n",
    "         sum += y[j] * polar(1.0, -kat); //zespolak \n",
    "     }\n",
    "     dft[i] = sum;\n",
    " }\n",
    "\n",
    " size_t syllabus = static_cast<size_t>(uf * dft.size() / fs);\n",
    "\n",
    " for (int i = 0; i < syllabus; ++i) {\n",
    "     dft[i] = 0.0;\n",
    " }\n",
    "\n",
    " vector<double> cutted(dft.size());\n",
    " for (size_t i = 0; i < n; ++i) {\n",
    "     complex<double> sum(0.0, 0.0);\n",
    "     for (size_t j = 0; j < n; ++j) {\n",
    "         double kat = 2 * pi * i * j / n;\n",
    "         sum += dft[j] * polar(1.0, kat);\n",
    "     }\n",
    "     cutted[i] = sum.real() / n;\n",
    " }\n",
    "\n",
    " auto w4 = figure();\n",
    " w4->size(800, 600);\n",
    " plot(t, y);\n",
    " title(\"Oryginalny sygnał\");\n",
    " xlabel(\"Czas\");\n",
    " ylabel(\"Amplituda\");\n",
    "\n",
    " auto w5 = figure();\n",
    " w5->size(800, 600);\n",
    " plot(t, cutted);\n",
    " title(\"Sygnał po usunięciu niskich częstotliwości\");\n",
    " xlabel(\"Czas\");\n",
    " ylabel(\"Amplituda\");\n",
    "\n",
    " show();\n",
    "}\n",
    "```"
   ]
  },
  {
   "cell_type": "code",
   "execution_count": null,
   "id": "4da9bd2b-67a2-4241-8c12-f64cbcae4425",
   "metadata": {},
   "outputs": [],
   "source": [
    "import scikit_build_example\n",
    "scikit_build_example.Audio_usuwanie(4000)"
   ]
  },
  {
   "cell_type": "markdown",
   "id": "91df840d-3610-4b23-a96c-3b2b88ec2a93",
   "metadata": {},
   "source": [
    "<img src=\"6_audio.png\" />"
   ]
  },
  {
   "cell_type": "markdown",
   "id": "07ec0fd4-1cd6-46c2-9615-d1de47219678",
   "metadata": {},
   "source": [
    "<img src=\"6_usuwanie_audio.png\" />"
   ]
  },
  {
   "cell_type": "code",
   "execution_count": null,
   "id": "fe2a7b5c-524c-49b5-8b46-9defb6d455a9",
   "metadata": {},
   "outputs": [],
   "source": []
  }
 ],
 "metadata": {
  "kernelspec": {
   "display_name": "Python 3 (ipykernel)",
   "language": "python",
   "name": "python3"
  },
  "language_info": {
   "codemirror_mode": {
    "name": "ipython",
    "version": 3
   },
   "file_extension": ".py",
   "mimetype": "text/x-python",
   "name": "python",
   "nbconvert_exporter": "python",
   "pygments_lexer": "ipython3",
   "version": "3.12.3"
  }
 },
 "nbformat": 4,
 "nbformat_minor": 5
}
